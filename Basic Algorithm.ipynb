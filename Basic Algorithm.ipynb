{
 "cells": [
  {
   "cell_type": "code",
   "execution_count": 11,
   "metadata": {},
   "outputs": [],
   "source": [
    "ratings={\n",
    "    'YB':{'아메리카노':5, '카페라떼':2, '카페모카':1},\n",
    "    'SH':{'아메리카노':3, '카페라떼':4, '카페모카':2},\n",
    "    'JY':{'아메리카노':2, '카페라떼':3, '카페모카':3},\n",
    "    'NY':{'아메리카노':0, '카페라떼':1, '카페모카':5}\n",
    "}"
   ]
  },
  {
   "cell_type": "code",
   "execution_count": 12,
   "metadata": {},
   "outputs": [
    {
     "data": {
      "text/plain": [
       "{'아메리카노': 5, '카페라떼': 2, '카페모카': 1}"
      ]
     },
     "execution_count": 12,
     "metadata": {},
     "output_type": "execute_result"
    }
   ],
   "source": [
    "ratings.get('YB')"
   ]
  },
  {
   "cell_type": "code",
   "execution_count": 13,
   "metadata": {},
   "outputs": [
    {
     "data": {
      "text/plain": [
       "5"
      ]
     },
     "execution_count": 13,
     "metadata": {},
     "output_type": "execute_result"
    }
   ],
   "source": [
    "ratings.get('YB').get('아메리카노')"
   ]
  },
  {
   "cell_type": "code",
   "execution_count": 14,
   "metadata": {},
   "outputs": [],
   "source": [
    "import math\n",
    "def sim(i,j):\n",
    "    return math.sqrt(pow(i,2)+pow(j,2))"
   ]
  },
  {
   "cell_type": "code",
   "execution_count": 15,
   "metadata": {},
   "outputs": [],
   "source": [
    "var1=ratings['SH']['카페라떼']-ratings['NY']['카페라떼']"
   ]
  },
  {
   "cell_type": "code",
   "execution_count": 16,
   "metadata": {},
   "outputs": [
    {
     "data": {
      "text/plain": [
       "3"
      ]
     },
     "execution_count": 16,
     "metadata": {},
     "output_type": "execute_result"
    }
   ],
   "source": [
    "var1"
   ]
  },
  {
   "cell_type": "code",
   "execution_count": 17,
   "metadata": {},
   "outputs": [],
   "source": [
    "var2=ratings['SH']['아메리카노']-ratings['NY']['아메리카노']"
   ]
  },
  {
   "cell_type": "code",
   "execution_count": 18,
   "metadata": {},
   "outputs": [
    {
     "data": {
      "text/plain": [
       "3"
      ]
     },
     "execution_count": 18,
     "metadata": {},
     "output_type": "execute_result"
    }
   ],
   "source": [
    "var2"
   ]
  },
  {
   "cell_type": "code",
   "execution_count": 19,
   "metadata": {},
   "outputs": [
    {
     "data": {
      "text/plain": [
       "4.242640687119285"
      ]
     },
     "execution_count": 19,
     "metadata": {},
     "output_type": "execute_result"
    }
   ],
   "source": [
    "sim(var1,var2)"
   ]
  },
  {
   "cell_type": "code",
   "execution_count": 20,
   "metadata": {},
   "outputs": [
    {
     "name": "stdout",
     "output_type": "stream",
     "text": [
      "YB  :  2.8284271247461903\n",
      "JY  :  1.4142135623730951\n",
      "NY  :  4.242640687119285\n"
     ]
    }
   ],
   "source": [
    "for i in ratings:\n",
    "    if i!='SH':\n",
    "        num1 = ratings.get('SH').get('카페라떼') - ratings.get(i).get('카페라떼')\n",
    "        num2 = ratings.get('SH').get('아메리카노') - ratings.get(i).get('아메리카노')\n",
    "        print(i,\" : \", sim(num1,num2))\n",
    "        # 유사도 구하기"
   ]
  },
  {
   "cell_type": "code",
   "execution_count": 21,
   "metadata": {},
   "outputs": [
    {
     "name": "stdout",
     "output_type": "stream",
     "text": [
      "YB  :  0.2612038749637414\n",
      "JY  :  0.4142135623730951\n",
      "NY  :  0.1907435698305462\n"
     ]
    }
   ],
   "source": [
    "for i in ratings:\n",
    "    if i!='SH':\n",
    "        num1 = ratings.get('SH').get('카페라떼') - ratings.get(i).get('카페라떼')\n",
    "        num2 = ratings.get('SH').get('아메리카노') - ratings.get(i).get('아메리카노')\n",
    "        # 정규화식(유사도 범위 0~1 => 1에 가까울수록 유사도가 높음)\n",
    "        print(i,\" : \", 1 / ( 1 + sim(num1,num2) ) )\n",
    "        #시현이의 음료수 취향은 지연이와 유사함"
   ]
  },
  {
   "cell_type": "code",
   "execution_count": 22,
   "metadata": {},
   "outputs": [
    {
     "name": "stdout",
     "output_type": "stream",
     "text": [
      "YB  :  0.1639607805437114\n",
      "SH  :  0.1907435698305462\n",
      "JY  :  0.2612038749637414\n"
     ]
    }
   ],
   "source": [
    "for i in ratings:\n",
    "    if i!='NY':\n",
    "        num1 = ratings.get('NY').get('카페라떼') - ratings.get(i).get('카페라떼')\n",
    "        num2 = ratings.get('NY').get('아메리카노') - ratings.get(i).get('아메리카노')\n",
    "        print(i,\" : \", 1 / ( 1 + sim(num1,num2) ) )\n",
    "        #나영이의 음료수 취향은 지연이와 유사함"
   ]
  },
  {
   "cell_type": "code",
   "execution_count": 23,
   "metadata": {},
   "outputs": [],
   "source": [
    "#평균제곱차이 유사도\n",
    "def sim_msd(data, name1, name2):\n",
    "    sum = 0\n",
    "    count = 0\n",
    "    for cafes in data[name1]:\n",
    "        if cafes in data[name2]: #같은 메뉴를 마셨다면\n",
    "            sum += pow(data[name1][cafes]- data[name2][cafes], 2)\n",
    "            count += 1\n",
    "\n",
    "    return 1 / ( 1 + (sum / count) )"
   ]
  },
  {
   "cell_type": "code",
   "execution_count": 24,
   "metadata": {},
   "outputs": [
    {
     "data": {
      "text/plain": [
       "0.25"
      ]
     },
     "execution_count": 24,
     "metadata": {},
     "output_type": "execute_result"
    }
   ],
   "source": [
    "sim_msd(ratings,'YB','SH') #유빈과 시현이의 msd 유사도"
   ]
  },
  {
   "cell_type": "code",
   "execution_count": 25,
   "metadata": {},
   "outputs": [
    {
     "data": {
      "text/plain": [
       "0.1764705882352941"
      ]
     },
     "execution_count": 25,
     "metadata": {},
     "output_type": "execute_result"
    }
   ],
   "source": [
    "sim_msd(ratings,'YB','JY')#유빈과 지연이의 msd 유사도"
   ]
  },
  {
   "cell_type": "code",
   "execution_count": 26,
   "metadata": {},
   "outputs": [],
   "source": [
    "#코사인 유사도\n",
    "import math\n",
    "def sim_cosine(data, name1, name2):\n",
    "    sum_name1 = 0\n",
    "    sum_name2 = 0\n",
    "    sum_name1_name2 = 0\n",
    "    count = 0\n",
    "    for cafes in data[name1]:\n",
    "        if cafes in data[name2]: #같은 메뉴를 마셨다면\n",
    "            sum_name1 += pow(data[name1][cafes], 2)\n",
    "            sum_name2 += pow(data[name2][cafes], 2)\n",
    "            sum_name1_name2 += data[name1][cafes]*data[name2][cafes]\n",
    "    \n",
    "    return sum_name1_name2 / (math.sqrt(sum_name1)*math.sqrt(sum_name2))"
   ]
  },
  {
   "cell_type": "code",
   "execution_count": 27,
   "metadata": {},
   "outputs": [
    {
     "data": {
      "text/plain": [
       "0.847579379526013"
      ]
     },
     "execution_count": 27,
     "metadata": {},
     "output_type": "execute_result"
    }
   ],
   "source": [
    "sim_cosine(ratings, 'YB','SH')"
   ]
  },
  {
   "cell_type": "code",
   "execution_count": 28,
   "metadata": {},
   "outputs": [
    {
     "data": {
      "text/plain": [
       "0.7395739969534468"
      ]
     },
     "execution_count": 28,
     "metadata": {},
     "output_type": "execute_result"
    }
   ],
   "source": [
    "sim_cosine(ratings, 'YB','JY')"
   ]
  },
  {
   "cell_type": "code",
   "execution_count": 29,
   "metadata": {},
   "outputs": [
    {
     "data": {
      "text/plain": [
       "0.25064020591380154"
      ]
     },
     "execution_count": 29,
     "metadata": {},
     "output_type": "execute_result"
    }
   ],
   "source": [
    "sim_cosine(ratings, 'YB','NY')"
   ]
  },
  {
   "cell_type": "code",
   "execution_count": 30,
   "metadata": {},
   "outputs": [],
   "source": [
    "#피어슨 유사도\n",
    "def sim_pearson(data, name1, name2):\n",
    "    avg_name1 = 0\n",
    "    avg_name2 = 0\n",
    "    count = 0\n",
    "    for cafes in data[name1]:\n",
    "        if cafes in data[name2]: #같은 메뉴를 마셨다면\n",
    "            avg_name1 = data[name1][cafes]\n",
    "            avg_name2 = data[name2][cafes]\n",
    "            count += 1\n",
    "    \n",
    "    avg_name1 = avg_name1 / count\n",
    "    avg_name2 = avg_name2 / count\n",
    "    \n",
    "    sum_name1 = 0\n",
    "    sum_name2 = 0\n",
    "    sum_name1_name2 = 0\n",
    "    count = 0\n",
    "    for cafes in data[name1]:\n",
    "        if cafes in data[name2]: #같은 메뉴를 마셨다면\n",
    "            sum_name1 += pow(data[name1][cafes] - avg_name1, 2)\n",
    "            sum_name2 += pow(data[name2][cafes] - avg_name2, 2)\n",
    "            sum_name1_name2 += (data[name1][cafes] - avg_name1) * (data[name2][cafes] - avg_name2)\n",
    "    \n",
    "    return sum_name1_name2 / (math.sqrt(sum_name1)*math.sqrt(sum_name2))"
   ]
  },
  {
   "cell_type": "code",
   "execution_count": 31,
   "metadata": {},
   "outputs": [
    {
     "data": {
      "text/plain": [
       "0.8096389019279839"
      ]
     },
     "execution_count": 31,
     "metadata": {},
     "output_type": "execute_result"
    }
   ],
   "source": [
    "sim_pearson(ratings, 'YB','SH')"
   ]
  },
  {
   "cell_type": "code",
   "execution_count": 32,
   "metadata": {},
   "outputs": [],
   "source": [
    "def top_match(data, name, index=3, sim_function=sim_pearson):\n",
    "    li=[]\n",
    "    for i in data: #딕셔너리를 돌고\n",
    "        if name!=i: #자기 자신이 아닐때만\n",
    "            li.append((sim_function(data,name,i),i)) #sim_function()을 통해 상관계수를 구하고 li[]에 추가\n",
    "    li.sort() #오름차순\n",
    "    li.reverse() #내림차순\n",
    "    return li[:index]"
   ]
  },
  {
   "cell_type": "code",
   "execution_count": 33,
   "metadata": {},
   "outputs": [
    {
     "data": {
      "text/plain": [
       "[(0.8096389019279839, 'SH'),\n",
       " (0.6222222222222222, 'JY'),\n",
       " (-0.35218036253024954, 'NY')]"
      ]
     },
     "execution_count": 33,
     "metadata": {},
     "output_type": "execute_result"
    }
   ],
   "source": [
    "top_match(ratings, 'YB', 3)"
   ]
  },
  {
   "cell_type": "code",
   "execution_count": 34,
   "metadata": {},
   "outputs": [
    {
     "data": {
      "text/plain": [
       "[(0.25, 'SH'), (0.1764705882352941, 'JY'), (0.06666666666666667, 'NY')]"
      ]
     },
     "execution_count": 34,
     "metadata": {},
     "output_type": "execute_result"
    }
   ],
   "source": [
    "top_match(ratings, 'YB', 3, sim_function=sim_msd) #msd 유사도"
   ]
  },
  {
   "cell_type": "code",
   "execution_count": 35,
   "metadata": {},
   "outputs": [
    {
     "data": {
      "text/plain": [
       "[(0.847579379526013, 'SH'),\n",
       " (0.7395739969534468, 'JY'),\n",
       " (0.25064020591380154, 'NY')]"
      ]
     },
     "execution_count": 35,
     "metadata": {},
     "output_type": "execute_result"
    }
   ],
   "source": [
    "top_match(ratings, 'YB', 3, sim_function=sim_cosine) #코사인 유사도"
   ]
  },
  {
   "cell_type": "code",
   "execution_count": 36,
   "metadata": {},
   "outputs": [
    {
     "data": {
      "text/plain": [
       "[(0.8096389019279839, 'SH'),\n",
       " (0.6222222222222222, 'JY'),\n",
       " (-0.35218036253024954, 'NY')]"
      ]
     },
     "execution_count": 36,
     "metadata": {},
     "output_type": "execute_result"
    }
   ],
   "source": [
    "top_match(ratings, 'YB', 3, sim_function=sim_pearson) #피어슨 유사도"
   ]
  },
  {
   "cell_type": "code",
   "execution_count": 37,
   "metadata": {},
   "outputs": [],
   "source": [
    "ratings_expand = {\n",
    "    '김유빈': {\n",
    "        '아메리카노': 5,\n",
    "        '카페라떼': 1,\n",
    "        '카페모카': 3,\n",
    "        '아이스티': 4,\n",
    "        '밀크티': 2,\n",
    "        '딸기주스': 0,\n",
    "    },\n",
    "    '김시현': {\n",
    "        '아메리카노': 5,\n",
    "        '카페라떼': 4,\n",
    "        '카페모카': 0,\n",
    "        '아이스티': 1,\n",
    "        '밀크티': 3,\n",
    "        '딸기주스': 5,\n",
    "    },\n",
    "    '백지연': {\n",
    "        '아메리카노': 3,\n",
    "        '카페라떼': 4,\n",
    "        '카페모카': 1,\n",
    "        '아이스티': 3,\n",
    "        '밀크티': 5,\n",
    "        '딸기주스': 4,\n",
    "    },\n",
    "    '안나영': {\n",
    "        '아메리카노': 2,\n",
    "        '카페라떼': 3,\n",
    "        '아이스티': 5,\n",
    "        '밀크티': 4,\n",
    "    },\n",
    "    '박소연': {\n",
    "        '카페라떼': 4,\n",
    "        '카페모카': 3,\n",
    "        '아이스티': 5,\n",
    "        '밀크티': 3,\n",
    "        '딸기주스': 2,\n",
    "    },\n",
    "    '서예슬': {\n",
    "        '아메리카노': 3,\n",
    "        '카페라떼': 4,\n",
    "        '카페모카': 1,\n",
    "        '아이스티': 3,\n",
    "        '밀크티': 4,\n",
    "        '딸기주스': 2,\n",
    "    },\n",
    "    '최수진': {\n",
    "        '아메리카노': 3,\n",
    "        '카페라떼': 4,\n",
    "        '아이스티': 3,\n",
    "        '밀크티': 5,\n",
    "        '딸기주스': 4,\n",
    "    },\n",
    "    '박소은': {\n",
    "        '카페라떼': 5,\n",
    "        '아이스티': 1,\n",
    "        '밀크티': 4,\n",
    "    }\n",
    "}"
   ]
  },
  {
   "cell_type": "code",
   "execution_count": 38,
   "metadata": {},
   "outputs": [],
   "source": [
    "def getRecommendation (data, person, k=3, sim_function=sim_pearson):\n",
    "    \n",
    "    result = top_match(data, person, k)\n",
    "    \n",
    "    score = 0 # 마신 횟수 합을 위한 변수\n",
    "    li = list() # 리턴을 위한 리스트\n",
    "    score_dic = dict() # 유사도 총합을 위한 dic\n",
    "    sim_dic = dict() # 마신 횟수 총합을 위한 dic\n",
    "\n",
    "    for sim, name in result: # 튜플이므로 한번에\n",
    "        print(sim, name)\n",
    "        if sim < 0 : continue #유사도가 양수인 사람만\n",
    "        for cafe in data[name]: \n",
    "            if cafe not in data[person]: #name이 평가를 내리지 않은 음료\n",
    "                score += sim * data[name][cafe] # 그사람의 음료 마신 횟수 * 유사도\n",
    "                score_dic.setdefault(cafe, 0) # 기본값 설정\n",
    "                score_dic[cafe] += score # 합계 구함\n",
    "\n",
    "                # 조건에 맞는 사람의 유사도의 누적합을 구한다\n",
    "                sim_dic.setdefault(cafe, 0) \n",
    "                sim_dic[cafe] += sim\n",
    "\n",
    "            score = 0  #음료가 바뀌었으니 초기화한다\n",
    "    \n",
    "    for key in score_dic: \n",
    "        score_dic[key] = score_dic[key] / sim_dic[key] # 마신 횟수 총합/ 유사도 총합\n",
    "        li.append((score_dic[key],key)) # list((tuple))의 리턴을 위해서.\n",
    "    li.sort() #오름차순\n",
    "    li.reverse() #내림차순\n",
    "    return li"
   ]
  },
  {
   "cell_type": "code",
   "execution_count": 39,
   "metadata": {},
   "outputs": [
    {
     "name": "stdout",
     "output_type": "stream",
     "text": [
      "0.9964784976080532 김시현\n",
      "0.8733593751946956 최수진\n",
      "0.8733593751946956 백지연\n"
     ]
    },
    {
     "data": {
      "text/plain": [
       "[(4.363254409917293, '딸기주스'),\n",
       " (3.726508819834586, '아메리카노'),\n",
       " (0.4670775942117348, '카페모카')]"
      ]
     },
     "execution_count": 39,
     "metadata": {},
     "output_type": "execute_result"
    }
   ],
   "source": [
    "getRecommendation(ratings_expand, '박소은')"
   ]
  },
  {
   "cell_type": "code",
   "execution_count": 40,
   "metadata": {},
   "outputs": [
    {
     "name": "stdout",
     "output_type": "stream",
     "text": [
      "0.9610646805481119 안나영\n",
      "0.9083523975141715 서예슬\n"
     ]
    },
    {
     "data": {
      "text/plain": [
       "[(2.485901411821759, '아메리카노')]"
      ]
     },
     "execution_count": 40,
     "metadata": {},
     "output_type": "execute_result"
    }
   ],
   "source": [
    "getRecommendation(ratings_expand, '박소연', k=2, sim_function=sim_cosine)"
   ]
  },
  {
   "cell_type": "code",
   "execution_count": 41,
   "metadata": {},
   "outputs": [],
   "source": [
    "for name in ratings_expand:\n",
    "    sum = 0\n",
    "    count = 0\n",
    "    for cafes in ratings_expand[name]:\n",
    "        sum += ratings_expand[name][cafes]\n",
    "        count += 1\n",
    "    ratings_expand[name]['avg'] = sum / count"
   ]
  },
  {
   "cell_type": "code",
   "execution_count": 42,
   "metadata": {},
   "outputs": [
    {
     "data": {
      "text/plain": [
       "{'김유빈': {'아메리카노': 5,\n",
       "  '카페라떼': 1,\n",
       "  '카페모카': 3,\n",
       "  '아이스티': 4,\n",
       "  '밀크티': 2,\n",
       "  '딸기주스': 0,\n",
       "  'avg': 2.5},\n",
       " '김시현': {'아메리카노': 5,\n",
       "  '카페라떼': 4,\n",
       "  '카페모카': 0,\n",
       "  '아이스티': 1,\n",
       "  '밀크티': 3,\n",
       "  '딸기주스': 5,\n",
       "  'avg': 3.0},\n",
       " '백지연': {'아메리카노': 3,\n",
       "  '카페라떼': 4,\n",
       "  '카페모카': 1,\n",
       "  '아이스티': 3,\n",
       "  '밀크티': 5,\n",
       "  '딸기주스': 4,\n",
       "  'avg': 3.3333333333333335},\n",
       " '안나영': {'아메리카노': 2, '카페라떼': 3, '아이스티': 5, '밀크티': 4, 'avg': 3.5},\n",
       " '박소연': {'카페라떼': 4, '카페모카': 3, '아이스티': 5, '밀크티': 3, '딸기주스': 2, 'avg': 3.4},\n",
       " '서예슬': {'아메리카노': 3,\n",
       "  '카페라떼': 4,\n",
       "  '카페모카': 1,\n",
       "  '아이스티': 3,\n",
       "  '밀크티': 4,\n",
       "  '딸기주스': 2,\n",
       "  'avg': 2.8333333333333335},\n",
       " '최수진': {'아메리카노': 3, '카페라떼': 4, '아이스티': 3, '밀크티': 5, '딸기주스': 4, 'avg': 3.8},\n",
       " '박소은': {'카페라떼': 5, '아이스티': 1, '밀크티': 4, 'avg': 3.3333333333333335}}"
      ]
     },
     "execution_count": 42,
     "metadata": {},
     "output_type": "execute_result"
    }
   ],
   "source": [
    "ratings_expand"
   ]
  },
  {
   "cell_type": "code",
   "execution_count": 43,
   "metadata": {},
   "outputs": [],
   "source": [
    "def getRecommendation (data, person, k=3, sim_function=sim_pearson):\n",
    "    \n",
    "    result = top_match(data, person, k)\n",
    "    \n",
    "    score = 0 # 마신 횟수 합을 위한 변수\n",
    "    li = list() # 리턴을 위한 리스트\n",
    "    score_dic = dict() # 유사도 총합을 위한 dic\n",
    "    sim_dic = dict() # 마신 횟수 총합을 위한 dic\n",
    "\n",
    "    for sim, name in result: # 튜플이므로 한번에\n",
    "        print(sim, name)\n",
    "        if sim < 0 : continue #유사도가 양수인 사람만\n",
    "        for cafe in data[name]: \n",
    "            if cafe not in data[person]: #name이 평가를 내리지 않은 음료\n",
    "                score += sim * (data[name][cafe] - data[name]['avg']) # 그사람의 마신 횟수* 유사도\n",
    "                score_dic.setdefault(cafe, 0) # 기본값 설정\n",
    "                score_dic[cafe] += score # 합계 구함\n",
    "\n",
    "                # 조건에 맞는 사람의 유사도의 누적합을 구한다\n",
    "                sim_dic.setdefault(cafe, 0) \n",
    "                sim_dic[cafe] += sim\n",
    "\n",
    "            score = 0  #음료가 바뀌었으니 초기화한다\n",
    "    \n",
    "    for key in score_dic: \n",
    "        score_dic[key] = data[person]['avg'] + (score_dic[key] / sim_dic[key]) # 마신 횟수 총합/ 유사도 총합\n",
    "        li.append((score_dic[key],key)) # list((tuple))의 리턴을 위해서.\n",
    "    li.sort() #오름차순\n",
    "    li.reverse() #내림차순\n",
    "    return li"
   ]
  },
  {
   "cell_type": "code",
   "execution_count": 46,
   "metadata": {},
   "outputs": [
    {
     "name": "stdout",
     "output_type": "stream",
     "text": [
      "0.9737441499053209 박소연\n",
      "0.9258694510441885 서예슬\n",
      "0.9250857953467885 최수진\n"
     ]
    },
    {
     "data": {
      "text/plain": [
       "[(2.8097380453209384, '딸기주스'), (2.4013950069459717, '카페모카')]"
      ]
     },
     "execution_count": 46,
     "metadata": {},
     "output_type": "execute_result"
    }
   ],
   "source": [
    "getRecommendation(ratings_expand, '안나영')"
   ]
  },
  {
   "cell_type": "code",
   "execution_count": 47,
   "metadata": {},
   "outputs": [
    {
     "name": "stdout",
     "output_type": "stream",
     "text": [
      "0.9985620159543144 백지연\n",
      "0.9681708478773605 서예슬\n"
     ]
    },
    {
     "data": {
      "text/plain": [
       "[(1.7128035126212127, '카페모카')]"
      ]
     },
     "execution_count": 47,
     "metadata": {},
     "output_type": "execute_result"
    }
   ],
   "source": [
    "getRecommendation(ratings_expand, '최수진', k=2, sim_function=sim_msd)"
   ]
  },
  {
   "cell_type": "code",
   "execution_count": null,
   "metadata": {},
   "outputs": [],
   "source": []
  }
 ],
 "metadata": {
  "kernelspec": {
   "display_name": "Python 3",
   "language": "python",
   "name": "python3"
  },
  "language_info": {
   "codemirror_mode": {
    "name": "ipython",
    "version": 3
   },
   "file_extension": ".py",
   "mimetype": "text/x-python",
   "name": "python",
   "nbconvert_exporter": "python",
   "pygments_lexer": "ipython3",
   "version": "3.7.3"
  }
 },
 "nbformat": 4,
 "nbformat_minor": 2
}
